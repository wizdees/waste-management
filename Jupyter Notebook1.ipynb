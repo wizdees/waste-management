{
 "cells": [
  {
   "cell_type": "markdown",
   "id": "537e400b-76f7-459d-ae54-149ab359c529",
   "metadata": {},
   "source": [
    "# My Jupyter Notebook on IBM Watson Studio\n"
   ]
  },
  {
   "cell_type": "markdown",
   "id": "abead830-eecc-4751-9d9c-b20458c64606",
   "metadata": {},
   "source": [
    "## Wisdom Ofori\n",
    "Data Scientist"
   ]
  },
  {
   "cell_type": "markdown",
   "id": "d879a666-1fda-4775-b033-484beaaa56fc",
   "metadata": {},
   "source": [
    "*I am interested in Data Science to help businesses become more efficient*"
   ]
  },
  {
   "cell_type": "markdown",
   "id": "2ccde6ed-1777-437b-b3cb-a09df19e01fd",
   "metadata": {},
   "source": [
    "### display the value \"c\" as sum of \"a\" and \"b\""
   ]
  },
  {
   "cell_type": "code",
   "execution_count": 3,
   "id": "cb2af1e2-9579-421c-8df3-4aca5832ed97",
   "metadata": {},
   "outputs": [
    {
     "name": "stdout",
     "output_type": "stream",
     "text": [
      "11\n"
     ]
    }
   ],
   "source": [
    "a=9\n",
    "b=2\n",
    "c=a+b\n",
    "print(c)"
   ]
  },
  {
   "cell_type": "markdown",
   "id": "b121d2c8-78a2-4b28-95c6-c17d70c33f7f",
   "metadata": {},
   "source": [
    "Food types\n",
    "***\n",
    "\n",
    "* oranges \n",
    "* pineapple  \n",
    "* mango \n",
    "`almost done`\n",
    "- potato\n",
    "- rice \n",
    "\n",
    "__[liquid waste management](https://wizdeesghana.com)__\n"
   ]
  },
  {
   "cell_type": "code",
   "execution_count": null,
   "id": "2b7048c5-7be9-4c77-8ec7-f9b7020fbdb4",
   "metadata": {},
   "outputs": [],
   "source": []
  }
 ],
 "metadata": {
  "kernelspec": {
   "display_name": "anaconda-2022.05-py39",
   "language": "python",
   "name": "conda-env-anaconda-2022.05-py39-py"
  },
  "language_info": {
   "codemirror_mode": {
    "name": "ipython",
    "version": 3
   },
   "file_extension": ".py",
   "mimetype": "text/x-python",
   "name": "python",
   "nbconvert_exporter": "python",
   "pygments_lexer": "ipython3",
   "version": "3.9.12"
  }
 },
 "nbformat": 4,
 "nbformat_minor": 5
}
